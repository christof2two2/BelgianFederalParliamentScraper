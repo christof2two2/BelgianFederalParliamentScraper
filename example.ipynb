{
 "cells": [
  {
   "cell_type": "code",
   "execution_count": 21,
   "metadata": {},
   "outputs": [
    {
     "name": "stdout",
     "output_type": "stream",
     "text": [
      "The autoreload extension is already loaded. To reload it, use:\n",
      "  %reload_ext autoreload\n"
     ]
    }
   ],
   "source": [
    "import sys  \n",
    "from scrapy.selector import Selector\n",
    "from scrapy.crawler import CrawlerProcess\n",
    "from BelgianFederalParliamentScraper.fedParliamentSpider import parliamentScraper\n",
    "from BelgianFederalParliamentScraper.chapterScrapers import questionScraper,legislationScraper,interpellationsScraper, budgetScraper,govDeclarationScraper,introScraper \n",
    "%load_ext autoreload\n",
    "%autoreload 2"
   ]
  },
  {
   "cell_type": "code",
   "execution_count": 14,
   "metadata": {},
   "outputs": [
    {
     "name": "stderr",
     "output_type": "stream",
     "text": [
      "2022-08-15 22:53:12 [scrapy.utils.log] INFO: Scrapy 2.6.1 started (bot: scrapybot)\n",
      "2022-08-15 22:53:12 [scrapy.utils.log] INFO: Versions: lxml 4.6.2.0, libxml2 2.9.5, cssselect 1.1.0, parsel 1.6.0, w3lib 1.22.0, Twisted 22.4.0, Python 3.8.7 (tags/v3.8.7:6503f05, Dec 21 2020, 17:59:51) [MSC v.1928 64 bit (AMD64)], pyOpenSSL 22.0.0 (OpenSSL 1.1.1m  14 Dec 2021), cryptography 36.0.1, Platform Windows-10-10.0.19041-SP0\n"
     ]
    }
   ],
   "source": [
    "process = CrawlerProcess()"
   ]
  },
  {
   "cell_type": "code",
   "execution_count": 25,
   "metadata": {},
   "outputs": [
    {
     "name": "stderr",
     "output_type": "stream",
     "text": [
      "2022-08-15 23:01:01 [scrapy.crawler] INFO: Overridden settings:\n",
      "{}\n",
      "2022-08-15 23:01:01 [scrapy.utils.log] DEBUG: Using reactor: twisted.internet.selectreactor.SelectReactor\n",
      "2022-08-15 23:01:01 [scrapy.extensions.telnet] INFO: Telnet Password: 576ff8be25ec6b7d\n",
      "2022-08-15 23:01:01 [scrapy.middleware] INFO: Enabled extensions:\n",
      "['scrapy.extensions.corestats.CoreStats',\n",
      " 'scrapy.extensions.telnet.TelnetConsole',\n",
      " 'scrapy.extensions.logstats.LogStats']\n"
     ]
    },
    {
     "data": {
      "text/plain": [
       "<Deferred at 0x2c074fb7a90 current result: <twisted.python.failure.Failure builtins.FileNotFoundError: [Errno 2] No such file or directory: 'operatingData/uselessBlocks.csv'>>"
      ]
     },
     "execution_count": 25,
     "metadata": {},
     "output_type": "execute_result"
    }
   ],
   "source": [
    "urls = [f\"https://www.dekamer.be/doc/PCRI/html/55/ip{str(x).zfill(3)}x.html\"for x in range(1,3)]\n",
    "chapterScrapers={\"questions\":questionScraper.questionScraper(),\n",
    "\"legislation\":legislationScraper.legislationScraper(),\n",
    "\"interpellations\":interpellationsScraper.interpellationScraper(),\n",
    "\"budgets\":budgetScraper.budgetScrapper(),\n",
    "\"govermentDeclaration\":govDeclarationScraper.govDeclarationScraper(),\n",
    "\"intro\":introScraper.introScraper()\n",
    "\n",
    "\n",
    "}\n",
    "if \"twisted.internet.reactor\" in sys.modules:\n",
    "    del sys.modules[\"twisted.internet.reactor\"]\n",
    "\n",
    "process.crawl(parliamentScraper,urls=urls,chapterScrapers=chapterScrapers,dataPath=\"data\")\n"
   ]
  },
  {
   "cell_type": "code",
   "execution_count": 20,
   "metadata": {},
   "outputs": [],
   "source": [
    "process.start()"
   ]
  }
 ],
 "metadata": {
  "kernelspec": {
   "display_name": "Python 3.8.7 64-bit",
   "language": "python",
   "name": "python3"
  },
  "language_info": {
   "codemirror_mode": {
    "name": "ipython",
    "version": 3
   },
   "file_extension": ".py",
   "mimetype": "text/x-python",
   "name": "python",
   "nbconvert_exporter": "python",
   "pygments_lexer": "ipython3",
   "version": "3.8.7"
  },
  "orig_nbformat": 4,
  "vscode": {
   "interpreter": {
    "hash": "3d3e0f5a071c3d54a1e63bce3160275a8e6b1225b175ea71d3e048c729e0e071"
   }
  }
 },
 "nbformat": 4,
 "nbformat_minor": 2
}
